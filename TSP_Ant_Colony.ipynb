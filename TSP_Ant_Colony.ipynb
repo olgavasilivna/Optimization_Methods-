{
 "cells": [
  {
   "cell_type": "markdown",
   "id": "c7a93ee5-10c6-4801-badf-93e475f6c9cb",
   "metadata": {},
   "source": [
    "# TSP ACO"
   ]
  },
  {
   "cell_type": "markdown",
   "id": "f24a7bea-4eb9-436b-9181-574c2a29b468",
   "metadata": {},
   "source": [
    "This time we will use ACO(Ant Colony Optimization). ACO is a metaheuristic optimization algorithm inspired by the foraging behavior of ants, which uses pheromone trails and heuristic information to probabilistically construct candidate solutions for combinatorial optimization problems. ACO algorithms have been widely used in various fields to find near-optimal solutions to complex problems."
   ]
  },
  {
   "cell_type": "code",
   "execution_count": 22,
   "id": "5613b369-22f4-45d5-8f14-3242a2410992",
   "metadata": {},
   "outputs": [
    {
     "name": "stdout",
     "output_type": "stream",
     "text": [
      "Best path: [0, 2, 1, 3, 0]\n",
      "Best distance: 170.5\n"
     ]
    }
   ],
   "source": [
    "import random\n",
    "from itertools import permutations\n",
    "\n",
    "V = 4 # number of vertices in the graph\n",
    "\n",
    "# matrix representation of the graph\n",
    "graph = [[0, 34.7, 42.5, 54.4],\n",
    "         [34.7, 0, 24.2, 49.4],\n",
    "         [42.5, 24.2, 0, 64.1],\n",
    "         [54.4, 49.4, 64.1, 0]]\n",
    "\n",
    "# ACO parameters\n",
    "n_ants = 5\n",
    "alpha = 1.0\n",
    "beta = 2.0\n",
    "evaporation_rate = 0.1\n",
    "pheromone_deposit = 1.0\n",
    "generations = 100\n",
    "\n",
    "# Function to calculate the heuristic value (inverse of distance) for each edge\n",
    "def calculate_heuristic():\n",
    "    heuristic = []\n",
    "    for i in range(V):\n",
    "        heuristic.append([1.0 / graph[i][j] if graph[i][j] != 0 else 0 for j in range(V)])\n",
    "    return heuristic\n",
    "\n",
    "# Function to initialize the pheromone matrix\n",
    "def initialize_pheromone():\n",
    "    pheromone = []\n",
    "    for i in range(V):\n",
    "        pheromone.append([1.0 for j in range(V)])\n",
    "    return pheromone\n",
    "\n",
    "# Function to perform ant exploration\n",
    "def explore(ant, pheromone, heuristic):\n",
    "    visited = [False for _ in range(V)]\n",
    "    visited[ant] = True\n",
    "    current_city = ant\n",
    "    unvisited_cities = list(range(V))\n",
    "    unvisited_cities.remove(ant)\n",
    "    path = [current_city]\n",
    "    total_distance = 0\n",
    "\n",
    "    while unvisited_cities:\n",
    "        next_city = -1\n",
    "        max_pheromone = 0\n",
    "        probabilities = []\n",
    "        for city in unvisited_cities:\n",
    "            pheromone_value = pheromone[current_city][city]\n",
    "            heuristic_value = heuristic[current_city][city]\n",
    "            probability = (pheromone_value ** alpha) * (heuristic_value ** beta)\n",
    "            probabilities.append(probability)\n",
    "            if probability > max_pheromone:\n",
    "                max_pheromone = probability\n",
    "                next_city = city\n",
    "\n",
    "        probabilities = [p / sum(probabilities) for p in probabilities]\n",
    "        chosen_city = random.choices(unvisited_cities, probabilities)[0]\n",
    "        path.append(chosen_city)\n",
    "        total_distance += graph[current_city][chosen_city]\n",
    "        visited[chosen_city] = True\n",
    "        unvisited_cities.remove(chosen_city)\n",
    "        current_city = chosen_city\n",
    "\n",
    "    # Return to starting city\n",
    "    path.append(ant)\n",
    "    total_distance += graph[current_city][ant]\n",
    "\n",
    "    return path, total_distance\n",
    "\n",
    "# Function to update the pheromone matrix\n",
    "def update_pheromone(pheromone, ants, distances):\n",
    "    for i in range(V):\n",
    "        for j in range(V):\n",
    "            pheromone[i][j] *= (1 - evaporation_rate)\n",
    "\n",
    "    for ant, distance in zip(ants, distances):\n",
    "        for i in range(V-1):\n",
    "            pheromone[ant[i]][ant[i+1]] += pheromone_deposit / distance\n",
    "        pheromone[ant[V-1]][ant[0]] += pheromone_deposit / distance\n",
    "\n",
    "# Main ACO loop\n",
    "def ant_colony_optimization():\n",
    "    heuristic = calculate_heuristic()\n",
    "    pheromone = initialize_pheromone()\n",
    "    best_distance = float('inf')\n",
    "    best_path = None\n",
    "\n",
    "    for generation in range(generations):\n",
    "        ants = []\n",
    "        distances = []\n",
    "\n",
    "        # Ant exploration\n",
    "        for ant in range(n_ants):\n",
    "            \n",
    "            path, distance = explore(0, pheromone, heuristic)\n",
    "            ants.append(path)\n",
    "            distances.append(distance)\n",
    "\n",
    "        # Update pheromone matrix\n",
    "        update_pheromone(pheromone, ants, distances)\n",
    "\n",
    "        # Update best path and distance\n",
    "        min_distance = min(distances)\n",
    "        if min_distance < best_distance:\n",
    "            best_distance = min_distance\n",
    "            best_path = ants[distances.index(min_distance)]\n",
    "\n",
    "    return best_path, best_distance\n",
    "\n",
    "# Run ACO and get the best path and distance\n",
    "best_path, best_distance = ant_colony_optimization()\n",
    "\n",
    "print(\"Best path:\", best_path)\n",
    "print(\"Best distance:\", best_distance)\n"
   ]
  },
  {
   "cell_type": "markdown",
   "id": "f22a1e15-1cea-4e8e-9834-cee82647e0c8",
   "metadata": {},
   "source": [
    "## Conclusion"
   ]
  },
  {
   "cell_type": "markdown",
   "id": "a042057a-0ee1-459d-91c9-372f9b2e8740",
   "metadata": {},
   "source": [
    "ACO gave us same results as before: \n",
    "the best order route 1,3,2,4,1 which gives us the shortest distance 170,5 km\n",
    "as in the previous codes, which proves that it is another good optimization tool for TSP."
   ]
  }
 ],
 "metadata": {
  "kernelspec": {
   "display_name": "Python 3 (ipykernel)",
   "language": "python",
   "name": "python3"
  },
  "language_info": {
   "codemirror_mode": {
    "name": "ipython",
    "version": 3
   },
   "file_extension": ".py",
   "mimetype": "text/x-python",
   "name": "python",
   "nbconvert_exporter": "python",
   "pygments_lexer": "ipython3",
   "version": "3.10.7"
  }
 },
 "nbformat": 4,
 "nbformat_minor": 5
}
